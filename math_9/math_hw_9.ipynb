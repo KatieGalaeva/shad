{
 "cells": [
  {
   "cell_type": "code",
   "execution_count": 1,
   "metadata": {},
   "outputs": [
    {
     "data": {
      "text/plain": [
       "        message: Optimization terminated successfully. (HiGHS Status 7: Optimal)\n",
       "        success: True\n",
       "         status: 0\n",
       "            fun: -25.636363636363637\n",
       "              x: [ 5.455e-01  8.182e+00  0.000e+00  0.000e+00  2.309e+01\n",
       "                   0.000e+00]\n",
       "            nit: 3\n",
       "          lower:  residual: [ 5.455e-01  8.182e+00  0.000e+00  0.000e+00\n",
       "                              2.309e+01  0.000e+00]\n",
       "                 marginals: [ 0.000e+00  0.000e+00  8.182e-01  3.636e-01\n",
       "                              0.000e+00  4.545e-01]\n",
       "          upper:  residual: [       inf        inf        inf        inf\n",
       "                                    inf        inf]\n",
       "                 marginals: [ 0.000e+00  0.000e+00  0.000e+00  0.000e+00\n",
       "                              0.000e+00  0.000e+00]\n",
       "          eqlin:  residual: [ 0.000e+00  0.000e+00  0.000e+00]\n",
       "                 marginals: [-0.000e+00 -8.182e-01 -4.545e-01]\n",
       "        ineqlin:  residual: []\n",
       "                 marginals: []\n",
       " mip_node_count: 0\n",
       " mip_dual_bound: 0.0\n",
       "        mip_gap: 0.0"
      ]
     },
     "execution_count": 1,
     "metadata": {},
     "output_type": "execute_result"
    }
   ],
   "source": [
    "import numpy as np\n",
    "from scipy.optimize import linprog\n",
    "c = [-2, -3, 0, 1, 0, 0]  \n",
    "A_eq = [\n",
    "    [2, -1, 0, -2, 1, 0],\n",
    "    [3,  2, 1, -3, 0, 0],\n",
    "    [-1, 3, 0, 4, 0, 1]\n",
    "]\n",
    "b_eq = [16, 18, 24]\n",
    "x_bounds = [(0, None) for _ in range(6)]\n",
    "\n",
    "res = linprog(c, A_eq=A_eq, b_eq=b_eq, bounds=x_bounds, method='highs')\n",
    "\n",
    "res\n"
   ]
  },
  {
   "cell_type": "markdown",
   "metadata": {},
   "source": [
    "Так как linprog решает задачу минимизации, то для максимизации результат получается с обратным знаком L (max) = 25.64. Оптимальные значения переменных x1=0.545, x2=8.18, x3=x4=x6=0, x5=23.09. Данные значения совпадают с аналитическим результатом"
   ]
  }
 ],
 "metadata": {
  "kernelspec": {
   "display_name": "mltest",
   "language": "python",
   "name": "python3"
  },
  "language_info": {
   "codemirror_mode": {
    "name": "ipython",
    "version": 3
   },
   "file_extension": ".py",
   "mimetype": "text/x-python",
   "name": "python",
   "nbconvert_exporter": "python",
   "pygments_lexer": "ipython3",
   "version": "3.12.5"
  }
 },
 "nbformat": 4,
 "nbformat_minor": 2
}
