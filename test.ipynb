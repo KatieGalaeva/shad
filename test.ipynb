{
 "cells": [
  {
   "cell_type": "code",
   "execution_count": 28,
   "metadata": {},
   "outputs": [
    {
     "data": {
      "text/plain": [
       "[2, 3]"
      ]
     },
     "execution_count": 28,
     "metadata": {},
     "output_type": "execute_result"
    }
   ],
   "source": [
    "a = [2, 3, 5, 7,11,12,13,14]\n",
    "index = 0\n",
    "k=2\n",
    "def find_closest_element(a, index, k):\n",
    "    res = [a[index]]\n",
    "    k-=1\n",
    "    l = index - 1\n",
    "    r = index + 1\n",
    "    while k:\n",
    "        if r<len(a) and l>=0:\n",
    "            if (a[index]-a[l]<a[r]-a[index] and l>=0) or r>len(a):\n",
    "                res.append(a[l])\n",
    "                k-=1\n",
    "                l-=1\n",
    "            elif (a[index]-a[l]>=a[r]-a[index] and r>0) or l<0:\n",
    "                res.append(a[r])\n",
    "                k-=1\n",
    "                r+=1\n",
    "        elif r<len(a):\n",
    "            res.append(a[r])\n",
    "            k-=1\n",
    "            r+=1\n",
    "        elif l>=0:\n",
    "            res.append(a[l])\n",
    "            k-=1\n",
    "            l-=1\n",
    "\n",
    "    return res\n",
    "        \n",
    "            \n",
    "find_closest_element(a, index, k)\n",
    "\n",
    "\n"
   ]
  },
  {
   "cell_type": "code",
   "execution_count": 26,
   "metadata": {},
   "outputs": [
    {
     "data": {
      "text/plain": [
       "[12, 11, 15]"
      ]
     },
     "execution_count": 26,
     "metadata": {},
     "output_type": "execute_result"
    }
   ],
   "source": [
    "find_closest_element(a=[11, 12, 15, 15, 24], index=1, k=3) #[11, 12, 15] \n"
   ]
  },
  {
   "cell_type": "code",
   "execution_count": 27,
   "metadata": {},
   "outputs": [
    {
     "data": {
      "text/plain": [
       "[5, 7]"
      ]
     },
     "execution_count": 27,
     "metadata": {},
     "output_type": "execute_result"
    }
   ],
   "source": [
    "find_closest_element(a=[2, 3, 5, 7, 11], index=2, k=2)  #[5, 7] "
   ]
  },
  {
   "cell_type": "code",
   "execution_count": 83,
   "metadata": {},
   "outputs": [],
   "source": [
    "def count_subarrays_with_sum(s, summa):\n",
    "    prefix_sums = {0: 1} \n",
    "    current_sum = 0\n",
    "    count = 0\n",
    "    for num in s:\n",
    "        current_sum +=num\n",
    "        if current_sum - summa in prefix_sums:\n",
    "            count += prefix_sums[current_sum-summa]\n",
    "        prefix_sums[current_sum] = prefix_sums.get(current_sum, 0)+1\n",
    "        \n",
    "\n",
    "\n",
    "    return count\n"
   ]
  },
  {
   "cell_type": "code",
   "execution_count": 84,
   "metadata": {},
   "outputs": [
    {
     "name": "stdout",
     "output_type": "stream",
     "text": [
      "2\n"
     ]
    }
   ],
   "source": [
    "print(count_subarrays_with_sum([1, 2, 3, -2, 5], 5)) "
   ]
  },
  {
   "cell_type": "code",
   "execution_count": 104,
   "metadata": {},
   "outputs": [],
   "source": [
    "def remove_smile(s):\n",
    "    stack = []\n",
    "    smile = [':', '-', ')']\n",
    "\n",
    "    for char in s:\n",
    "        stack.append(char)\n",
    "        \n",
    "        if len(stack)>=3 and stack[-3:] ==smile:\n",
    "            \n",
    "            stack.pop()\n",
    "            stack.pop()\n",
    "            stack.pop()\n",
    "    return \"\".join(stack)"
   ]
  },
  {
   "cell_type": "code",
   "execution_count": 105,
   "metadata": {},
   "outputs": [
    {
     "name": "stdout",
     "output_type": "stream",
     "text": [
      "Hello  world \n"
     ]
    }
   ],
   "source": [
    "print(remove_smile(\"Hello :-) world :-)\")) "
   ]
  },
  {
   "cell_type": "code",
   "execution_count": null,
   "metadata": {},
   "outputs": [],
   "source": []
  },
  {
   "cell_type": "code",
   "execution_count": 106,
   "metadata": {},
   "outputs": [
    {
     "name": "stdout",
     "output_type": "stream",
     "text": [
      "3\n",
      "2\n",
      "2\n"
     ]
    },
    {
     "ename": "",
     "evalue": "",
     "output_type": "error",
     "traceback": [
      "\u001b[1;31mThe Kernel crashed while executing code in the current cell or a previous cell. \n",
      "\u001b[1;31mPlease review the code in the cell(s) to identify a possible cause of the failure. \n",
      "\u001b[1;31mClick <a href='https://aka.ms/vscodeJupyterKernelCrash'>here</a> for more info. \n",
      "\u001b[1;31mView Jupyter <a href='command:jupyter.viewOutput'>log</a> for further details."
     ]
    }
   ],
   "source": [
    "t = int(input())  \n",
    "for _ in range(t):\n",
    "   \n",
    "    a1, a2, a4, a5 = map(int, input().split())\n",
    "\n",
    "    max_fib = 0  \n",
    "    \n",
    "\n",
    "    for a3 in range(-100, 101):\n",
    "        fib = 0  # Счетчик для текущего значения Fibonacciness\n",
    "        \n",
    "        # Проверяем условия для каждого i:\n",
    "        # 1. a3 = a1 + a2\n",
    "        if a3 == a1 + a2:\n",
    "            fib += 1\n",
    "        \n",
    "        # 2. a4 = a2 + a3\n",
    "        if a4 == a2 + a3:\n",
    "            fib += 1\n",
    "        \n",
    "        # 3. a5 = a3 + a4\n",
    "        if a5 == a3 + a4:\n",
    "            fib += 1\n",
    "        \n",
    "        # Обновляем максимальное значение Fibonacciness\n",
    "        max_fib = max(max_fib, fib)\n",
    "    \n",
    "    # Выводим результат для текущего теста\n",
    "    print(max_fib)"
   ]
  },
  {
   "cell_type": "code",
   "execution_count": null,
   "metadata": {},
   "outputs": [],
   "source": [
    "def longest_monotonic_subarray(arr):\n",
    "    if not arr:\n",
    "        return [0, 0]\n",
    "    max_len = 1\n",
    "    start_index = 0\n",
    "    current_start = 0\n",
    "    is_increasing = None\n",
    "    for i in range(1, len(arr)):\n",
    "        if arr[i] > arr[i - 1]:\n",
    "            if is_increasing is None or is_increasing:\n",
    "                pass\n",
    "            else:\n",
    "                if i - current_start > max_len:\n",
    "                    max_len = i - current_start\n",
    "                    start_index = current_start\n",
    "                current_start = i - 1\n",
    "            is_increasing = True\n",
    "        elif arr[i] < arr[i - 1]:\n",
    "            if is_increasing is None or not is_increasing:\n",
    "                pass\n",
    "            else:\n",
    "                if i - current_start > max_len:\n",
    "                    max_len = i - current_start\n",
    "                    start_index = current_start\n",
    "                current_start = i - 1\n",
    "            is_increasing = False\n",
    "        else:\n",
    "            if i - current_start > max_len:\n",
    "                max_len = i - current_start\n",
    "                start_index = current_start\n",
    "            current_start = i\n",
    "            is_increasing = None\n",
    "\n",
    "    if len(arr) - current_start > max_len:\n",
    "        start_index = current_start\n",
    "        max_len = len(arr) - current_start\n",
    "    return [start_index, start_index + max_len - 1]\n",
    "\n",
    "print(longest_monotonic_subarray([2, 7, 5, 4, 4, 3]))  # [1, 3]\n",
    "print(longest_monotonic_subarray([1, 1]))  # [0, 0] or [1, 1]\n"
   ]
  }
 ],
 "metadata": {
  "kernelspec": {
   "display_name": "mltest",
   "language": "python",
   "name": "python3"
  },
  "language_info": {
   "codemirror_mode": {
    "name": "ipython",
    "version": 3
   },
   "file_extension": ".py",
   "mimetype": "text/x-python",
   "name": "python",
   "nbconvert_exporter": "python",
   "pygments_lexer": "ipython3",
   "version": "3.12.5"
  }
 },
 "nbformat": 4,
 "nbformat_minor": 2
}
