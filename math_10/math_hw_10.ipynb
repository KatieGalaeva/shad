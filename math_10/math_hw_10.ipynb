{
 "cells": [
  {
   "cell_type": "code",
   "execution_count": 9,
   "metadata": {},
   "outputs": [
    {
     "data": {
      "text/plain": [
       "(0.0,\n",
       " array([-0., -0.,  0., -0., -0., -0.]),\n",
       " -2.45,\n",
       " array([-0.64, -0.64, -0.64,  0.64, -0.64,  0.64]))"
      ]
     },
     "execution_count": 9,
     "metadata": {},
     "output_type": "execute_result"
    }
   ],
   "source": [
    "import numpy as np\n",
    "from scipy.optimize import minimize\n",
    "\n",
    "def objective(x):\n",
    "    return np.sum(x**2)  \n",
    "\n",
    "def constraint(x):\n",
    "    return 1 - np.sum(x**4)\n",
    "\n",
    "n = 6  \n",
    "\n",
    "x0 = np.random.uniform(-1, 1, n)\n",
    "constr = {'type': 'ineq', 'fun': constraint}\n",
    "res_min = minimize(objective, x0, constraints=constr, method='SLSQP')\n",
    "res_max = minimize(lambda x: -objective(x), x0, constraints=constr, method='SLSQP')\n",
    "\n",
    "np.round(res_min.fun, 1), np.round(res_min.x, 1), np.round(res_max.fun, 2), np.round(res_max.x, 2)\n"
   ]
  },
  {
   "cell_type": "markdown",
   "metadata": {},
   "source": [
    "Аналитические результаты проверим при n=6"
   ]
  },
  {
   "cell_type": "code",
   "execution_count": 18,
   "metadata": {},
   "outputs": [
    {
     "data": {
      "text/plain": [
       "(-2.45, -0.64)"
      ]
     },
     "execution_count": 18,
     "metadata": {},
     "output_type": "execute_result"
    }
   ],
   "source": [
    "import math\n",
    "f_min = -math.sqrt(6)\n",
    "x_i_min = - 1/6**(1/4)\n",
    "np.round(f_min, 2), np.round(x_i_min, 2)"
   ]
  },
  {
   "cell_type": "markdown",
   "metadata": {},
   "source": [
    "Значения аналитические совпадают со значениями посчитанные при помощи оптимизатора в python."
   ]
  },
  {
   "cell_type": "code",
   "execution_count": 31,
   "metadata": {},
   "outputs": [
    {
     "data": {
      "text/plain": [
       "([1, 2, 4, 5, 3, 1], 18.0)"
      ]
     },
     "execution_count": 31,
     "metadata": {},
     "output_type": "execute_result"
    }
   ],
   "source": [
    "from itertools import permutations\n",
    "\n",
    "\n",
    "cost_matrix = np.array([\n",
    "    [np.inf, 4, 5, 7, 5],\n",
    "    [8, np.inf, 5, 6, 6],\n",
    "    [3, 5, np.inf, 9, 6],\n",
    "    [3, 5, 6, np.inf, 2],\n",
    "    [6, 7, 3, 8, np.inf]\n",
    "])\n",
    "\n",
    "num_cities = cost_matrix.shape[0]\n",
    "city_indices = list(range(1, num_cities))  \n",
    "all_routes = permutations(city_indices)\n",
    "\n",
    "\n",
    "min_cost = np.inf\n",
    "best_route = None\n",
    "\n",
    "for route in all_routes:\n",
    "    route = (0,) + route + (0,)  \n",
    "    cost = sum(cost_matrix[route[i], route[i + 1]] for i in range(num_cities))\n",
    "    \n",
    "    if cost < min_cost:\n",
    "        min_cost = cost\n",
    "        best_route = route\n",
    "\n",
    "best_route_1_based = [city + 1 for city in best_route]\n",
    "\n",
    "best_route_1_based, min_cost\n"
   ]
  },
  {
   "cell_type": "markdown",
   "metadata": {},
   "source": [
    "Результат совпадает с аналитическим решением. Попробую дальше реализовать метаэвристический алгоритм. Реализую имитацию отжига."
   ]
  },
  {
   "cell_type": "code",
   "execution_count": 32,
   "metadata": {},
   "outputs": [
    {
     "data": {
      "text/plain": [
       "([1, 2, 4, 5, 3, 1], 18.0)"
      ]
     },
     "execution_count": 32,
     "metadata": {},
     "output_type": "execute_result"
    }
   ],
   "source": [
    "import random\n",
    "\n",
    "def route_cost(route, cost_matrix):\n",
    "    return sum(cost_matrix[route[i], route[i + 1]] for i in range(len(route) - 1))\n",
    "\n",
    "def simulated_annealing(cost_matrix, initial_temperature=1000, cooling_rate=0.995, num_iterations=10000):\n",
    "    n = cost_matrix.shape[0]\n",
    "    current_route = list(range(n)) + [0]  \n",
    "    current_cost = route_cost(current_route, cost_matrix)\n",
    "    best_route = current_route[:]\n",
    "    best_cost = current_cost\n",
    "    temperature = initial_temperature\n",
    "\n",
    "    for _ in range(num_iterations):\n",
    "\n",
    "        new_route = current_route[:]\n",
    "        i, j = random.sample(range(1, n), 2)\n",
    "        new_route[i], new_route[j] = new_route[j], new_route[i]\n",
    "\n",
    "        new_cost = route_cost(new_route, cost_matrix)\n",
    "\n",
    "        if new_cost < current_cost or random.random() < np.exp((current_cost - new_cost) / temperature):\n",
    "            current_route, current_cost = new_route, new_cost\n",
    "            if new_cost < best_cost:\n",
    "                best_route, best_cost = new_route[:], new_cost\n",
    "\n",
    "        temperature *= cooling_rate\n",
    "\n",
    "    return [city + 1 for city in best_route], best_cost \n",
    "\n",
    "sa_route, sa_cost = simulated_annealing(cost_matrix)\n",
    "\n",
    "\n",
    "sa_route, sa_cost\n"
   ]
  },
  {
   "cell_type": "markdown",
   "metadata": {},
   "source": [
    "Маршрут такой же как и аналитическое решение, что подтверждает эффективность. "
   ]
  },
  {
   "cell_type": "markdown",
   "metadata": {},
   "source": [
    "Проведем оценку устойчивости имитации отжига"
   ]
  },
  {
   "cell_type": "code",
   "execution_count": 45,
   "metadata": {},
   "outputs": [
    {
     "name": "stdout",
     "output_type": "stream",
     "text": [
      "[2, 0, 1, 3, 4, 2]\n",
      "Вариант 1: Лучшая стоимость = 18.0000\n",
      "[0, 1, 3, 4, 2, 0]\n",
      "Вариант 2: Лучшая стоимость = 18.0000\n",
      "[3, 4, 2, 0, 1, 3]\n",
      "Вариант 3: Лучшая стоимость = 18.0000\n",
      "[4, 2, 0, 1, 3, 4]\n",
      "Вариант 4: Лучшая стоимость = 18.0000\n",
      "[3, 4, 2, 0, 1, 3]\n",
      "Вариант 5: Лучшая стоимость = 18.0000\n",
      "[2, 0, 1, 3, 4, 2]\n",
      "Вариант 6: Лучшая стоимость = 18.0000\n",
      "[4, 2, 0, 1, 3, 4]\n",
      "Вариант 7: Лучшая стоимость = 18.0000\n",
      "[3, 4, 2, 0, 1, 3]\n",
      "Вариант 8: Лучшая стоимость = 18.0000\n",
      "[4, 2, 0, 1, 3, 4]\n",
      "Вариант 9: Лучшая стоимость = 18.0000\n",
      "[0, 1, 3, 4, 2, 0]\n",
      "Вариант 10: Лучшая стоимость = 18.0000\n"
     ]
    },
    {
     "data": {
      "image/png": "[encoded data removed]",
      "text/plain": [
       "<Figure size 1000x500 with 1 Axes>"
      ]
     },
     "metadata": {},
     "output_type": "display_data"
    },
    {
     "name": "stdout",
     "output_type": "stream",
     "text": [
      "Средняя лучшая стоимость: 18.0\n"
     ]
    }
   ],
   "source": [
    "import numpy as np\n",
    "import random\n",
    "import matplotlib.pyplot as plt\n",
    "\n",
    "def route_cost(route, cost_matrix):\n",
    "    return sum(cost_matrix[route[i], route[i + 1]] for i in range(len(route) - 1))\n",
    "\n",
    "\n",
    "def simulated_annealing(cost_matrix, initial_temperature=1000, cooling_rate=0.995, num_iterations=10000):\n",
    "    n = cost_matrix.shape[0]\n",
    "    route = list(range(n))\n",
    "    random.shuffle(route)\n",
    "    current_route = route[:] + [route[0]]\n",
    "    current_cost = route_cost(current_route, cost_matrix)\n",
    "    best_route = current_route[:]\n",
    "    best_cost = current_cost\n",
    "    temperature = initial_temperature\n",
    "\n",
    "    for _ in range(num_iterations):\n",
    "\n",
    "        new_route = current_route[:]\n",
    "        i, j = random.sample(range(1, n), 2)\n",
    "        new_route[i], new_route[j] = new_route[j], new_route[i]\n",
    "        new_route[-1] = new_route[0]\n",
    "        \n",
    "        new_cost = route_cost(new_route, cost_matrix)\n",
    "        if new_cost < current_cost or random.random() < np.exp((current_cost - new_cost) / temperature):\n",
    "            current_route, current_cost = new_route, new_cost\n",
    "            if new_cost < best_cost:\n",
    "                best_route, best_cost = new_route[:], new_cost\n",
    "\n",
    "        temperature *= cooling_rate\n",
    "\n",
    "    return best_route, best_cost\n",
    "\n",
    "\n",
    "def test_metaheuristic_stability(cost_matrix, num_variants=10, num_iterations=10000):\n",
    "    results = []\n",
    "    for variant in range(num_variants):\n",
    "        best_route, best_cost = simulated_annealing(cost_matrix, num_iterations=num_iterations)\n",
    "        results.append(best_cost)\n",
    "        print(best_route)\n",
    "        print(f\"Вариант {variant + 1}: Лучшая стоимость = {best_cost:.4f}\")\n",
    "    return results\n",
    "\n",
    "\n",
    "\n",
    "cost_matrix = np.array([\n",
    "    [np.inf, 4, 5, 7, 5],\n",
    "    [8, np.inf, 5, 6, 6],\n",
    "    [3, 5, np.inf, 9, 6],\n",
    "    [3, 5, 6, np.inf, 2],\n",
    "    [6, 7, 3, 8, np.inf]\n",
    "])\n",
    "n_cities = cost_matrix.shape[0]\n",
    "\n",
    "\n",
    "sa_stability = test_metaheuristic_stability(cost_matrix, num_variants=10, num_iterations=10000)\n",
    "\n",
    "plt.figure(figsize=(10, 5))\n",
    "plt.plot(sa_stability, marker='o', linestyle='-', label=\"Имитация отжига\")\n",
    "plt.xlabel(\"i-Итерация\")\n",
    "plt.ylabel(\"Стоимость маршрута\")\n",
    "plt.title(\"Стабильность метаэвристики\")\n",
    "plt.legend()\n",
    "plt.grid(True)\n",
    "plt.show()\n",
    "\n",
    "print(\"Средняя лучшая стоимость:\", np.mean(sa_stability))\n"
   ]
  },
  {
   "cell_type": "markdown",
   "metadata": {},
   "source": [
    "Можно заметить, что данный подход устойчив как к случайному выбору исходной точки, так и количеству итераций. Маршрут и длина получается одинаковой."
   ]
  },
  {
   "cell_type": "markdown",
   "metadata": {},
   "source": [
    "Можно сделать вывод, что все способы рассмотренные в данной работе дают стабильный результат 18 и одинаковый маршрут, а так же имитация отжига устойчива к начальным точкам и количеству итераций. "
   ]
  }
 ],
 "metadata": {
  "kernelspec": {
   "display_name": "mltest",
   "language": "python",
   "name": "python3"
  },
  "language_info": {
   "codemirror_mode": {
    "name": "ipython",
    "version": 3
   },
   "file_extension": ".py",
   "mimetype": "text/x-python",
   "name": "python",
   "nbconvert_exporter": "python",
   "pygments_lexer": "ipython3",
   "version": "3.12.5"
  }
 },
 "nbformat": 4,
 "nbformat_minor": 2
}
