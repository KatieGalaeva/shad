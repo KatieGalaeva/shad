{
  "cells": [
    {
      "cell_type": "markdown",
      "metadata": {
        "id": "ive9kZsYsugz"
      },
      "source": [
        "Уважаемые студенты!\n",
        "\n",
        "Задачи выполняются с помощью стандартных библиотек питона без установки сторонних библиотек. Все задачи направлены на проверку усвоения пройденного материала. Вспомните как работать с библиотекой Pandas.\n",
        "\n",
        "Желаем удачи!"
      ]
    },
    {
      "cell_type": "markdown",
      "metadata": {
        "id": "trn8NQkq0Dl-"
      },
      "source": [
        "**Задача №1**. **Создание и базовый анализ DataFrame:**\n",
        "\n",
        "- Создайте DataFrame из словаря, где ключи — имена столбцов, а значения — списки данных.\n",
        "- Выполните базовый анализ данных с помощью методов head(), info(), describe() и shape.\n"
      ]
    },
    {
      "cell_type": "code",
      "execution_count": 2,
      "metadata": {
        "id": "ctA20rpC35L6"
      },
      "outputs": [
        {
          "data": {
            "text/html": [
              "<div>\n",
              "<style scoped>\n",
              "    .dataframe tbody tr th:only-of-type {\n",
              "        vertical-align: middle;\n",
              "    }\n",
              "\n",
              "    .dataframe tbody tr th {\n",
              "        vertical-align: top;\n",
              "    }\n",
              "\n",
              "    .dataframe thead th {\n",
              "        text-align: right;\n",
              "    }\n",
              "</style>\n",
              "<table border=\"1\" class=\"dataframe\">\n",
              "  <thead>\n",
              "    <tr style=\"text-align: right;\">\n",
              "      <th></th>\n",
              "      <th>Имя</th>\n",
              "      <th>Возраст</th>\n",
              "      <th>Город</th>\n",
              "    </tr>\n",
              "  </thead>\n",
              "  <tbody>\n",
              "    <tr>\n",
              "      <th>0</th>\n",
              "      <td>Анна</td>\n",
              "      <td>23</td>\n",
              "      <td>Москва</td>\n",
              "    </tr>\n",
              "    <tr>\n",
              "      <th>1</th>\n",
              "      <td>Борис</td>\n",
              "      <td>30</td>\n",
              "      <td>Санкт-Петербург</td>\n",
              "    </tr>\n",
              "    <tr>\n",
              "      <th>2</th>\n",
              "      <td>Виктор</td>\n",
              "      <td>35</td>\n",
              "      <td>Новосибирск</td>\n",
              "    </tr>\n",
              "    <tr>\n",
              "      <th>3</th>\n",
              "      <td>Галина</td>\n",
              "      <td>29</td>\n",
              "      <td>Екатеринбург</td>\n",
              "    </tr>\n",
              "    <tr>\n",
              "      <th>4</th>\n",
              "      <td>Дмитрий</td>\n",
              "      <td>40</td>\n",
              "      <td>Казань</td>\n",
              "    </tr>\n",
              "  </tbody>\n",
              "</table>\n",
              "</div>"
            ],
            "text/plain": [
              "       Имя  Возраст            Город\n",
              "0     Анна       23           Москва\n",
              "1    Борис       30  Санкт-Петербург\n",
              "2   Виктор       35      Новосибирск\n",
              "3   Галина       29     Екатеринбург\n",
              "4  Дмитрий       40           Казань"
            ]
          },
          "execution_count": 2,
          "metadata": {},
          "output_type": "execute_result"
        }
      ],
      "source": [
        "import pandas as pd\n",
        "data = {\n",
        "    'Имя': ['Анна', 'Борис', 'Виктор', 'Галина', 'Дмитрий'],\n",
        "    'Возраст': [23, 30, 35, 29, 40],\n",
        "    'Город': ['Москва', 'Санкт-Петербург', 'Новосибирск', 'Екатеринбург', 'Казань']\n",
        "}\n",
        "\n",
        "df = pd.DataFrame(data)\n",
        "df.head()\n"
      ]
    },
    {
      "cell_type": "code",
      "execution_count": 3,
      "metadata": {},
      "outputs": [
        {
          "name": "stdout",
          "output_type": "stream",
          "text": [
            "<class 'pandas.core.frame.DataFrame'>\n",
            "RangeIndex: 5 entries, 0 to 4\n",
            "Data columns (total 3 columns):\n",
            " #   Column   Non-Null Count  Dtype \n",
            "---  ------   --------------  ----- \n",
            " 0   Имя      5 non-null      object\n",
            " 1   Возраст  5 non-null      int64 \n",
            " 2   Город    5 non-null      object\n",
            "dtypes: int64(1), object(2)\n",
            "memory usage: 252.0+ bytes\n"
          ]
        }
      ],
      "source": [
        "df.info()"
      ]
    },
    {
      "cell_type": "code",
      "execution_count": 4,
      "metadata": {},
      "outputs": [
        {
          "data": {
            "text/html": [
              "<div>\n",
              "<style scoped>\n",
              "    .dataframe tbody tr th:only-of-type {\n",
              "        vertical-align: middle;\n",
              "    }\n",
              "\n",
              "    .dataframe tbody tr th {\n",
              "        vertical-align: top;\n",
              "    }\n",
              "\n",
              "    .dataframe thead th {\n",
              "        text-align: right;\n",
              "    }\n",
              "</style>\n",
              "<table border=\"1\" class=\"dataframe\">\n",
              "  <thead>\n",
              "    <tr style=\"text-align: right;\">\n",
              "      <th></th>\n",
              "      <th>Возраст</th>\n",
              "    </tr>\n",
              "  </thead>\n",
              "  <tbody>\n",
              "    <tr>\n",
              "      <th>count</th>\n",
              "      <td>5.000000</td>\n",
              "    </tr>\n",
              "    <tr>\n",
              "      <th>mean</th>\n",
              "      <td>31.400000</td>\n",
              "    </tr>\n",
              "    <tr>\n",
              "      <th>std</th>\n",
              "      <td>6.426508</td>\n",
              "    </tr>\n",
              "    <tr>\n",
              "      <th>min</th>\n",
              "      <td>23.000000</td>\n",
              "    </tr>\n",
              "    <tr>\n",
              "      <th>25%</th>\n",
              "      <td>29.000000</td>\n",
              "    </tr>\n",
              "    <tr>\n",
              "      <th>50%</th>\n",
              "      <td>30.000000</td>\n",
              "    </tr>\n",
              "    <tr>\n",
              "      <th>75%</th>\n",
              "      <td>35.000000</td>\n",
              "    </tr>\n",
              "    <tr>\n",
              "      <th>max</th>\n",
              "      <td>40.000000</td>\n",
              "    </tr>\n",
              "  </tbody>\n",
              "</table>\n",
              "</div>"
            ],
            "text/plain": [
              "         Возраст\n",
              "count   5.000000\n",
              "mean   31.400000\n",
              "std     6.426508\n",
              "min    23.000000\n",
              "25%    29.000000\n",
              "50%    30.000000\n",
              "75%    35.000000\n",
              "max    40.000000"
            ]
          },
          "execution_count": 4,
          "metadata": {},
          "output_type": "execute_result"
        }
      ],
      "source": [
        "df.describe()"
      ]
    },
    {
      "cell_type": "code",
      "execution_count": 5,
      "metadata": {},
      "outputs": [
        {
          "data": {
            "text/plain": [
              "(5, 3)"
            ]
          },
          "execution_count": 5,
          "metadata": {},
          "output_type": "execute_result"
        }
      ],
      "source": [
        "df.shape"
      ]
    },
    {
      "cell_type": "markdown",
      "metadata": {
        "id": "9KbBnRVC4_ug"
      },
      "source": [
        "**Задача №2**. **Работа с индексами и фильтрация:**\n",
        "\n",
        "- Отфильтруйте строки, основываясь на значениях в одном или нескольких столбцах.\n"
      ]
    },
    {
      "cell_type": "code",
      "execution_count": 8,
      "metadata": {
        "id": "MGzLCTNc5gao"
      },
      "outputs": [
        {
          "data": {
            "text/html": [
              "<div>\n",
              "<style scoped>\n",
              "    .dataframe tbody tr th:only-of-type {\n",
              "        vertical-align: middle;\n",
              "    }\n",
              "\n",
              "    .dataframe tbody tr th {\n",
              "        vertical-align: top;\n",
              "    }\n",
              "\n",
              "    .dataframe thead th {\n",
              "        text-align: right;\n",
              "    }\n",
              "</style>\n",
              "<table border=\"1\" class=\"dataframe\">\n",
              "  <thead>\n",
              "    <tr style=\"text-align: right;\">\n",
              "      <th></th>\n",
              "      <th>Имя</th>\n",
              "      <th>Возраст</th>\n",
              "      <th>Город</th>\n",
              "    </tr>\n",
              "  </thead>\n",
              "  <tbody>\n",
              "    <tr>\n",
              "      <th>2</th>\n",
              "      <td>Виктор</td>\n",
              "      <td>35</td>\n",
              "      <td>Новосибирск</td>\n",
              "    </tr>\n",
              "    <tr>\n",
              "      <th>4</th>\n",
              "      <td>Дмитрий</td>\n",
              "      <td>40</td>\n",
              "      <td>Казань</td>\n",
              "    </tr>\n",
              "  </tbody>\n",
              "</table>\n",
              "</div>"
            ],
            "text/plain": [
              "       Имя  Возраст        Город\n",
              "2   Виктор       35  Новосибирск\n",
              "4  Дмитрий       40       Казань"
            ]
          },
          "execution_count": 8,
          "metadata": {},
          "output_type": "execute_result"
        }
      ],
      "source": [
        "data = {\n",
        "    'Имя': ['Анна', 'Борис', 'Виктор', 'Галина', 'Дмитрий'],\n",
        "    'Возраст': [23, 30, 35, 29, 40],\n",
        "    'Город': ['Москва', 'Санкт-Петербург', 'Новосибирск', 'Екатеринбург', 'Казань']\n",
        "}\n",
        "\n",
        "df = pd.DataFrame(data)\n",
        "filtered_by_age = df[df['Возраст'] >= 35]\n",
        "filtered_by_age"
      ]
    },
    {
      "cell_type": "code",
      "execution_count": 10,
      "metadata": {},
      "outputs": [
        {
          "data": {
            "text/html": [
              "<div>\n",
              "<style scoped>\n",
              "    .dataframe tbody tr th:only-of-type {\n",
              "        vertical-align: middle;\n",
              "    }\n",
              "\n",
              "    .dataframe tbody tr th {\n",
              "        vertical-align: top;\n",
              "    }\n",
              "\n",
              "    .dataframe thead th {\n",
              "        text-align: right;\n",
              "    }\n",
              "</style>\n",
              "<table border=\"1\" class=\"dataframe\">\n",
              "  <thead>\n",
              "    <tr style=\"text-align: right;\">\n",
              "      <th></th>\n",
              "      <th>Имя</th>\n",
              "      <th>Возраст</th>\n",
              "      <th>Город</th>\n",
              "    </tr>\n",
              "  </thead>\n",
              "  <tbody>\n",
              "    <tr>\n",
              "      <th>0</th>\n",
              "      <td>Анна</td>\n",
              "      <td>23</td>\n",
              "      <td>Москва</td>\n",
              "    </tr>\n",
              "    <tr>\n",
              "      <th>1</th>\n",
              "      <td>Борис</td>\n",
              "      <td>30</td>\n",
              "      <td>Санкт-Петербург</td>\n",
              "    </tr>\n",
              "  </tbody>\n",
              "</table>\n",
              "</div>"
            ],
            "text/plain": [
              "     Имя  Возраст            Город\n",
              "0   Анна       23           Москва\n",
              "1  Борис       30  Санкт-Петербург"
            ]
          },
          "execution_count": 10,
          "metadata": {},
          "output_type": "execute_result"
        }
      ],
      "source": [
        "filtered_by_city = df[df['Город'].isin(['Москва', 'Санкт-Петербург'])]\n",
        "filtered_by_city"
      ]
    },
    {
      "cell_type": "markdown",
      "metadata": {
        "id": "_AmVFE8K5yWj"
      },
      "source": [
        "**Задача №3**. **Обработка отсутствующих данных:**\n",
        "\n",
        "  - Заполните отсутствующие значения методом fillna(), используя среднее значение по столбцу.\n",
        "  - Удалите строки с отсутствующими значениями методом dropna().\n"
      ]
    },
    {
      "cell_type": "code",
      "execution_count": 14,
      "metadata": {
        "id": "dedDwRAw6F8M"
      },
      "outputs": [
        {
          "data": {
            "text/html": [
              "<div>\n",
              "<style scoped>\n",
              "    .dataframe tbody tr th:only-of-type {\n",
              "        vertical-align: middle;\n",
              "    }\n",
              "\n",
              "    .dataframe tbody tr th {\n",
              "        vertical-align: top;\n",
              "    }\n",
              "\n",
              "    .dataframe thead th {\n",
              "        text-align: right;\n",
              "    }\n",
              "</style>\n",
              "<table border=\"1\" class=\"dataframe\">\n",
              "  <thead>\n",
              "    <tr style=\"text-align: right;\">\n",
              "      <th></th>\n",
              "      <th>Имя</th>\n",
              "      <th>Возраст</th>\n",
              "      <th>Город</th>\n",
              "    </tr>\n",
              "  </thead>\n",
              "  <tbody>\n",
              "    <tr>\n",
              "      <th>0</th>\n",
              "      <td>Анна</td>\n",
              "      <td>23</td>\n",
              "      <td>Москва</td>\n",
              "    </tr>\n",
              "    <tr>\n",
              "      <th>1</th>\n",
              "      <td>Борис</td>\n",
              "      <td>29</td>\n",
              "      <td>Санкт-Петербург</td>\n",
              "    </tr>\n",
              "    <tr>\n",
              "      <th>2</th>\n",
              "      <td>Виктор</td>\n",
              "      <td>35</td>\n",
              "      <td>Новосибирск</td>\n",
              "    </tr>\n",
              "    <tr>\n",
              "      <th>4</th>\n",
              "      <td>Дмитрий</td>\n",
              "      <td>29</td>\n",
              "      <td>Казань</td>\n",
              "    </tr>\n",
              "  </tbody>\n",
              "</table>\n",
              "</div>"
            ],
            "text/plain": [
              "       Имя  Возраст            Город\n",
              "0     Анна       23           Москва\n",
              "1    Борис       29  Санкт-Петербург\n",
              "2   Виктор       35      Новосибирск\n",
              "4  Дмитрий       29           Казань"
            ]
          },
          "execution_count": 14,
          "metadata": {},
          "output_type": "execute_result"
        }
      ],
      "source": [
        "import numpy as np\n",
        "\n",
        "data = {\n",
        "    'Имя': ['Анна', 'Борис', 'Виктор', 'Галина', 'Дмитрий'],\n",
        "    'Возраст': [23, np.nan, 35, 29, np.nan],\n",
        "    'Город': ['Москва', 'Санкт-Петербург', 'Новосибирск', None, 'Казань']\n",
        "}\n",
        "\n",
        "df = pd.DataFrame(data)\n",
        "df['Возраст'] = df['Возраст'].fillna(df['Возраст'].mean()).astype(int)\n",
        "df_without_none = df.dropna()\n",
        "df_without_none"
      ]
    },
    {
      "cell_type": "markdown",
      "metadata": {
        "id": "wMwOIGdf6Yv0"
      },
      "source": [
        "**Задача №4**. **Группировка и агрегирование данных:**\n",
        "   - Создайте DataFrame из словаря и выполните его группировку по определённым категориям.\n",
        "   - Используйте методы groupby() и agg() для получения суммарных и средних значений по группе."
      ]
    },
    {
      "cell_type": "code",
      "execution_count": 17,
      "metadata": {
        "id": "LwPocVme6q2e"
      },
      "outputs": [
        {
          "data": {
            "text/html": [
              "<div>\n",
              "<style scoped>\n",
              "    .dataframe tbody tr th:only-of-type {\n",
              "        vertical-align: middle;\n",
              "    }\n",
              "\n",
              "    .dataframe tbody tr th {\n",
              "        vertical-align: top;\n",
              "    }\n",
              "\n",
              "    .dataframe thead th {\n",
              "        text-align: right;\n",
              "    }\n",
              "</style>\n",
              "<table border=\"1\" class=\"dataframe\">\n",
              "  <thead>\n",
              "    <tr style=\"text-align: right;\">\n",
              "      <th></th>\n",
              "      <th>Сумма</th>\n",
              "      <th>Среднее</th>\n",
              "    </tr>\n",
              "    <tr>\n",
              "      <th>Группа</th>\n",
              "      <th></th>\n",
              "      <th></th>\n",
              "    </tr>\n",
              "  </thead>\n",
              "  <tbody>\n",
              "    <tr>\n",
              "      <th>A</th>\n",
              "      <td>65</td>\n",
              "      <td>21.666667</td>\n",
              "    </tr>\n",
              "    <tr>\n",
              "      <th>B</th>\n",
              "      <td>45</td>\n",
              "      <td>22.500000</td>\n",
              "    </tr>\n",
              "  </tbody>\n",
              "</table>\n",
              "</div>"
            ],
            "text/plain": [
              "        Сумма    Среднее\n",
              "Группа                  \n",
              "A          65  21.666667\n",
              "B          45  22.500000"
            ]
          },
          "execution_count": 17,
          "metadata": {},
          "output_type": "execute_result"
        }
      ],
      "source": [
        "data = {\n",
        "    'Группа': ['A', 'B', 'A', 'B', 'A'],\n",
        "    'Значение': [10, 20, 15, 25, 40]\n",
        "}\n",
        "df = pd.DataFrame(data)\n",
        "grouped = df.groupby('Группа').agg(\n",
        "    Сумма=('Значение', 'sum'),\n",
        "    Среднее=('Значение', 'mean')\n",
        ")\n",
        "grouped"
      ]
    },
    {
      "cell_type": "markdown",
      "metadata": {
        "id": "Z9Ashfeo7XDD"
      },
      "source": [
        "**Задача №5**. **Объединение и слияние DataFrame:**\n",
        "   - Создайте два DataFrame из словарей.\n",
        "   - Примените методы merge() и concat(), чтобы объединить эти DataFrame разными способами."
      ]
    },
    {
      "cell_type": "code",
      "execution_count": 20,
      "metadata": {
        "id": "qLx5Srwp7sca"
      },
      "outputs": [
        {
          "data": {
            "text/html": [
              "<div>\n",
              "<style scoped>\n",
              "    .dataframe tbody tr th:only-of-type {\n",
              "        vertical-align: middle;\n",
              "    }\n",
              "\n",
              "    .dataframe tbody tr th {\n",
              "        vertical-align: top;\n",
              "    }\n",
              "\n",
              "    .dataframe thead th {\n",
              "        text-align: right;\n",
              "    }\n",
              "</style>\n",
              "<table border=\"1\" class=\"dataframe\">\n",
              "  <thead>\n",
              "    <tr style=\"text-align: right;\">\n",
              "      <th></th>\n",
              "      <th>Имя</th>\n",
              "      <th>Возраст</th>\n",
              "    </tr>\n",
              "  </thead>\n",
              "  <tbody>\n",
              "    <tr>\n",
              "      <th>0</th>\n",
              "      <td>Анна</td>\n",
              "      <td>23</td>\n",
              "    </tr>\n",
              "    <tr>\n",
              "      <th>1</th>\n",
              "      <td>Борис</td>\n",
              "      <td>30</td>\n",
              "    </tr>\n",
              "    <tr>\n",
              "      <th>2</th>\n",
              "      <td>Виктор</td>\n",
              "      <td>35</td>\n",
              "    </tr>\n",
              "    <tr>\n",
              "      <th>3</th>\n",
              "      <td>Галина</td>\n",
              "      <td>29</td>\n",
              "    </tr>\n",
              "  </tbody>\n",
              "</table>\n",
              "</div>"
            ],
            "text/plain": [
              "      Имя  Возраст\n",
              "0    Анна       23\n",
              "1   Борис       30\n",
              "2  Виктор       35\n",
              "3  Галина       29"
            ]
          },
          "execution_count": 20,
          "metadata": {},
          "output_type": "execute_result"
        }
      ],
      "source": [
        "data1 = {\n",
        "    'Имя': ['Анна', 'Борис'],\n",
        "    'Возраст': [23, 30]\n",
        "}\n",
        "\n",
        "data2 = {\n",
        "    'Имя': ['Виктор', 'Галина'],\n",
        "    'Возраст': [35, 29]\n",
        "}\n",
        "df1 = pd.DataFrame(data1)\n",
        "df2 = pd.DataFrame(data2)\n",
        "df_concat = pd.concat([df1, df2], ignore_index=True)\n",
        "df_concat \n"
      ]
    },
    {
      "cell_type": "markdown",
      "metadata": {},
      "source": [
        "для merge посчитала нужным создать еще одну таблицу\n",
        "data3 = {\n",
        "    'Имя': ['Анна', 'Борис', 'Галина', 'Виктор'],\n",
        "    'Город': ['Москва', 'СПб', 'Казань', 'Екатеринбург']\n",
        "}"
      ]
    },
    {
      "cell_type": "code",
      "execution_count": 28,
      "metadata": {},
      "outputs": [
        {
          "data": {
            "text/html": [
              "<div>\n",
              "<style scoped>\n",
              "    .dataframe tbody tr th:only-of-type {\n",
              "        vertical-align: middle;\n",
              "    }\n",
              "\n",
              "    .dataframe tbody tr th {\n",
              "        vertical-align: top;\n",
              "    }\n",
              "\n",
              "    .dataframe thead th {\n",
              "        text-align: right;\n",
              "    }\n",
              "</style>\n",
              "<table border=\"1\" class=\"dataframe\">\n",
              "  <thead>\n",
              "    <tr style=\"text-align: right;\">\n",
              "      <th></th>\n",
              "      <th>Имя</th>\n",
              "      <th>Возраст</th>\n",
              "      <th>Город</th>\n",
              "    </tr>\n",
              "  </thead>\n",
              "  <tbody>\n",
              "    <tr>\n",
              "      <th>0</th>\n",
              "      <td>Анна</td>\n",
              "      <td>23</td>\n",
              "      <td>Москва</td>\n",
              "    </tr>\n",
              "    <tr>\n",
              "      <th>1</th>\n",
              "      <td>Борис</td>\n",
              "      <td>30</td>\n",
              "      <td>Санкт-Петербург</td>\n",
              "    </tr>\n",
              "    <tr>\n",
              "      <th>2</th>\n",
              "      <td>Виктор</td>\n",
              "      <td>35</td>\n",
              "      <td>Екатеринбург</td>\n",
              "    </tr>\n",
              "    <tr>\n",
              "      <th>3</th>\n",
              "      <td>Галина</td>\n",
              "      <td>29</td>\n",
              "      <td>Казань</td>\n",
              "    </tr>\n",
              "  </tbody>\n",
              "</table>\n",
              "</div>"
            ],
            "text/plain": [
              "      Имя  Возраст            Город\n",
              "0    Анна       23           Москва\n",
              "1   Борис       30  Санкт-Петербург\n",
              "2  Виктор       35     Екатеринбург\n",
              "3  Галина       29           Казань"
            ]
          },
          "execution_count": 28,
          "metadata": {},
          "output_type": "execute_result"
        }
      ],
      "source": [
        "data3 = {\n",
        "    'Имя': ['Анна', 'Борис', 'Галина', 'Виктор'],\n",
        "    'Город': ['Москва', 'Санкт-Петербург', 'Казань', 'Екатеринбург']\n",
        "}\n",
        "df3 = pd.DataFrame(data3)\n",
        "df_merge = pd.merge(df_concat, df3, on='Имя', how='inner')\n",
        "df_merge"
      ]
    },
    {
      "cell_type": "markdown",
      "metadata": {
        "id": "Mgbb4RhI8DIq"
      },
      "source": [
        "**Задача №6**. **Применение функций к данным:**\n",
        "  - Создайте DataFrame из словаря и используйте метод apply() для преобразования данных в колонке \"Возраст\" (например, умножьте все значения на 2)."
      ]
    },
    {
      "cell_type": "code",
      "execution_count": 32,
      "metadata": {
        "id": "bfdw4sGB8VkX"
      },
      "outputs": [
        {
          "data": {
            "text/html": [
              "<div>\n",
              "<style scoped>\n",
              "    .dataframe tbody tr th:only-of-type {\n",
              "        vertical-align: middle;\n",
              "    }\n",
              "\n",
              "    .dataframe tbody tr th {\n",
              "        vertical-align: top;\n",
              "    }\n",
              "\n",
              "    .dataframe thead th {\n",
              "        text-align: right;\n",
              "    }\n",
              "</style>\n",
              "<table border=\"1\" class=\"dataframe\">\n",
              "  <thead>\n",
              "    <tr style=\"text-align: right;\">\n",
              "      <th></th>\n",
              "      <th>Имя</th>\n",
              "      <th>Возраст</th>\n",
              "    </tr>\n",
              "  </thead>\n",
              "  <tbody>\n",
              "    <tr>\n",
              "      <th>0</th>\n",
              "      <td>Анна</td>\n",
              "      <td>529</td>\n",
              "    </tr>\n",
              "    <tr>\n",
              "      <th>1</th>\n",
              "      <td>Борис</td>\n",
              "      <td>900</td>\n",
              "    </tr>\n",
              "    <tr>\n",
              "      <th>2</th>\n",
              "      <td>Виктор</td>\n",
              "      <td>1225</td>\n",
              "    </tr>\n",
              "  </tbody>\n",
              "</table>\n",
              "</div>"
            ],
            "text/plain": [
              "      Имя  Возраст\n",
              "0    Анна      529\n",
              "1   Борис      900\n",
              "2  Виктор     1225"
            ]
          },
          "execution_count": 32,
          "metadata": {},
          "output_type": "execute_result"
        }
      ],
      "source": [
        "data = {\n",
        "    'Имя': ['Анна', 'Борис', 'Виктор'],\n",
        "    'Возраст': [23, 30, 35]\n",
        "}\n",
        "df = pd.DataFrame(data)\n",
        "df['Возраст'] = df['Возраст'].apply(lambda x: x**2)\n",
        "df"
      ]
    },
    {
      "cell_type": "markdown",
      "metadata": {
        "id": "iRD3YL7T8ua-"
      },
      "source": [
        "**Задача №7**. **Временные ряды и данные по дате и времени:**\n",
        "  - Создайте DataFrame с временными данными, используя pd.date_range().\n",
        "  - Выполните операции ресемплирования (resample()) для агрегирования данных на основе временных интервалов."
      ]
    },
    {
      "cell_type": "code",
      "execution_count": null,
      "metadata": {
        "id": "c-OtAlC99NzU"
      },
      "outputs": [
        {
          "data": {
            "text/html": [
              "<div>\n",
              "<style scoped>\n",
              "    .dataframe tbody tr th:only-of-type {\n",
              "        vertical-align: middle;\n",
              "    }\n",
              "\n",
              "    .dataframe tbody tr th {\n",
              "        vertical-align: top;\n",
              "    }\n",
              "\n",
              "    .dataframe thead th {\n",
              "        text-align: right;\n",
              "    }\n",
              "</style>\n",
              "<table border=\"1\" class=\"dataframe\">\n",
              "  <thead>\n",
              "    <tr style=\"text-align: right;\">\n",
              "      <th></th>\n",
              "      <th>Значение</th>\n",
              "    </tr>\n",
              "    <tr>\n",
              "      <th>Дата</th>\n",
              "      <th></th>\n",
              "    </tr>\n",
              "  </thead>\n",
              "  <tbody>\n",
              "    <tr>\n",
              "      <th>2025-01-01</th>\n",
              "      <td>100.0</td>\n",
              "    </tr>\n",
              "    <tr>\n",
              "      <th>2025-01-02</th>\n",
              "      <td>150.0</td>\n",
              "    </tr>\n",
              "    <tr>\n",
              "      <th>2025-01-03</th>\n",
              "      <td>200.0</td>\n",
              "    </tr>\n",
              "    <tr>\n",
              "      <th>2025-01-04</th>\n",
              "      <td>250.0</td>\n",
              "    </tr>\n",
              "    <tr>\n",
              "      <th>2025-01-05</th>\n",
              "      <td>300.0</td>\n",
              "    </tr>\n",
              "  </tbody>\n",
              "</table>\n",
              "</div>"
            ],
            "text/plain": [
              "            Значение\n",
              "Дата                \n",
              "2025-01-01     100.0\n",
              "2025-01-02     150.0\n",
              "2025-01-03     200.0\n",
              "2025-01-04     250.0\n",
              "2025-01-05     300.0"
            ]
          },
          "execution_count": 46,
          "metadata": {},
          "output_type": "execute_result"
        }
      ],
      "source": [
        "import pandas as pd\n",
        "\n",
        "date_range = pd.date_range(start='2025-01-01', periods=5, freq='D')\n",
        "data = {\n",
        "    'Дата': date_range,\n",
        "    'Значение': [100, 150, 200, 250, 300]\n",
        "}\n",
        "\n",
        "df = pd.DataFrame(data)\n",
        "df.set_index('Дата', inplace=True) \n",
        "df_resampled = df.resample('D').sum()\n",
        "df_resampled"
      ]
    },
    {
      "cell_type": "markdown",
      "metadata": {
        "id": "LXN5g3Rs9c5z"
      },
      "source": [
        "**Задача №8**. **Визуализация данных с помощью Pandas**\n",
        "  - Создайте DataFrame из словаря\n",
        "  - Постройте диаграмму для вашего DataFrame используя matplotlib.pyplot."
      ]
    },
    {
      "cell_type": "code",
      "execution_count": 49,
      "metadata": {
        "id": "l-ozrlsB90Cf"
      },
      "outputs": [
        {
          "data": {
            "image/png": "[encoded data removed]",
            "text/plain": [
              "<Figure size 1000x800 with 1 Axes>"
            ]
          },
          "metadata": {},
          "output_type": "display_data"
        }
      ],
      "source": [
        "import matplotlib.pyplot as plt\n",
        "\n",
        "data = {\n",
        "    'Имя': ['Анна', 'Борис', 'Виктор', 'Галина', 'Дмитрий'],\n",
        "    'Возраст': [23, 30, 35, 29, 40]\n",
        "}\n",
        "\n",
        "df = pd.DataFrame(data)\n",
        "plt.figure(figsize=(10, 8)) \n",
        "plt.bar(df['Имя'], df['Возраст'], color='red')\n",
        "plt.title('Возраст людей', fontsize=16)\n",
        "plt.xlabel('Имя', fontsize=14)\n",
        "plt.ylabel('Возраст', fontsize=14)\n",
        "plt.show()"
      ]
    }
  ],
  "metadata": {
    "colab": {
      "provenance": []
    },
    "kernelspec": {
      "display_name": "mltest",
      "language": "python",
      "name": "python3"
    },
    "language_info": {
      "codemirror_mode": {
        "name": "ipython",
        "version": 3
      },
      "file_extension": ".py",
      "mimetype": "text/x-python",
      "name": "python",
      "nbconvert_exporter": "python",
      "pygments_lexer": "ipython3",
      "version": "3.12.5"
    }
  },
  "nbformat": 4,
  "nbformat_minor": 0
}
