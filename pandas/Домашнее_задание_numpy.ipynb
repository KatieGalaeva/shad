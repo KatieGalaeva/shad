{
  "cells": [
    {
      "cell_type": "markdown",
      "metadata": {
        "id": "ive9kZsYsugz"
      },
      "source": [
        "Уважаемые студенты!\n",
        "\n",
        "Задачи выполняются с помощью стандартных библиотек питона без установки сторонних библиотек. Все задачи направлены на проверку усвоения пройденного материала. Вспомните как работать с библиотекой Pandas.\n",
        "\n",
        "Желаем удачи!"
      ]
    },
    {
      "cell_type": "markdown",
      "metadata": {
        "id": "trn8NQkq0Dl-"
      },
      "source": [
        "**Задача №1**. **Написать формулу которая находит ближайшее значение к переменной x из значений в массиве X:**\n",
        "\n",
        "- Подсказка 1: np.abs, argmin, flat\n",
        "- Подсказка 2: Для значений:\n",
        "> X = np.array([0.24114313, 0.61842813, 0.58509702, 0.73381884, 0.72278527, 0.40846187, 0.36924466, 0.82095236, 0.48059102, 0.29990759])\n",
        ">\n",
        "> x = 0.5\n"
      ]
    },
    {
      "cell_type": "code",
      "execution_count": 4,
      "metadata": {
        "id": "ctA20rpC35L6"
      },
      "outputs": [
        {
          "name": "stdout",
          "output_type": "stream",
          "text": [
            "Ближайшее значение к 0.5 это 0.48059102\n"
          ]
        }
      ],
      "source": [
        "import numpy as np\n",
        "X = np.array([0.24114313, 0.61842813, 0.58509702, 0.73381884, 0.72278527, 0.40846187, 0.36924466, 0.82095236, 0.48059102, 0.29990759])\n",
        "x = 0.5\n",
        "value = X[np.argmin(np.abs(X - x))]\n",
        "print(\"Ближайшее значение к\", x, \"это\", value)\n",
        "\n"
      ]
    },
    {
      "cell_type": "markdown",
      "metadata": {
        "id": "9KbBnRVC4_ug"
      },
      "source": [
        "**Задача №2**. **Какой из следующих массивов является двумерным (2D) массивом?**\n",
        "\n",
        "1. 56\n",
        "2. [[4,6,7], [8,6,8]]\n",
        "3. [4, 6, 7]\n",
        "\n"
      ]
    },
    {
      "cell_type": "code",
      "execution_count": 5,
      "metadata": {
        "id": "MGzLCTNc5gao"
      },
      "outputs": [
        {
          "data": {
            "text/plain": [
              "(2, 3)"
            ]
          },
          "execution_count": 5,
          "metadata": {},
          "output_type": "execute_result"
        }
      ],
      "source": [
        "#Второй\n",
        "arr = np.array([[4, 6, 7], [8, 6, 8]])\n",
        "arr.shape"
      ]
    },
    {
      "cell_type": "markdown",
      "metadata": {
        "id": "_AmVFE8K5yWj"
      },
      "source": [
        "**Задача №3**. **Как правильно сделать print числа 7 из массива:**\n",
        "\n",
        "arr = np.array([[1,2,3,4,5], [6,7,8,9,10]])\n",
        "\n",
        "    1. print(arr[7,2])\n",
        "    2. print(arr[2,0])\n",
        "    3. print(arr[1,1])\n"
      ]
    },
    {
      "cell_type": "code",
      "execution_count": 12,
      "metadata": {
        "id": "dedDwRAw6F8M"
      },
      "outputs": [
        {
          "name": "stdout",
          "output_type": "stream",
          "text": [
            "7\n"
          ]
        }
      ],
      "source": [
        "arr = np.array([[1,2,3,4,5], [6,7,8,9,10]])\n",
        "print(arr[1,1]) # или можно так print(arr[1][1])\n",
        "\n",
        "#Третий вариант"
      ]
    },
    {
      "cell_type": "markdown",
      "metadata": {
        "id": "wMwOIGdf6Yv0"
      },
      "source": [
        "**Задача №4**. **Как правильно сделать массив [3, 4, 5, 6] из массива:**\n",
        "\n",
        "arr = np.array([1,2,3,4,5,6,7,8,9])\n",
        "\n",
        "    1. print(arr[2:6])\n",
        "    2. print(arr[2:5])\n",
        "    3. print(arr[3:6])\n",
        "    4. print(arr[2:6])"
      ]
    },
    {
      "cell_type": "code",
      "execution_count": 13,
      "metadata": {
        "id": "LwPocVme6q2e"
      },
      "outputs": [
        {
          "name": "stdout",
          "output_type": "stream",
          "text": [
            "[3 4 5 6]\n"
          ]
        }
      ],
      "source": [
        "arr = np.array([1,2,3,4,5,6,7,8,9])\n",
        "print(arr[2:6])\n",
        "# Четвертый вариант"
      ]
    },
    {
      "cell_type": "markdown",
      "metadata": {
        "id": "Z9Ashfeo7XDD"
      },
      "source": [
        "**Задача №5**. **Какое выражение выведет каждый второй элемент из массива:**\n",
        "\n",
        "arr = np.array([1,2,3,4,5,6,7])\n",
        "\n",
        "    1. print(arr[1:3:5:7])\n",
        "    2. print(arr[::2])\n",
        "    3. print(arr(0: step=2))"
      ]
    },
    {
      "cell_type": "code",
      "execution_count": 17,
      "metadata": {
        "id": "qLx5Srwp7sca"
      },
      "outputs": [
        {
          "name": "stdout",
          "output_type": "stream",
          "text": [
            "[1 3 5 7]\n"
          ]
        }
      ],
      "source": [
        "arr = np.array([1,2,3,4,5,6,7])\n",
        "print(arr[::2])\n",
        "#Второй"
      ]
    },
    {
      "cell_type": "markdown",
      "metadata": {
        "id": "Mgbb4RhI8DIq"
      },
      "source": [
        "**Задача №6**. **Как правильно сделать массив индексов всех элементов, имеющих значение 4 из массива ниже:**\n",
        "\n",
        "arr = np.array([1,4,3,4,5,4,4])\n",
        "\n",
        "    1. arr.where(4)\n",
        "    2. np.where(arr=4)\n",
        "    3. arr.search(4)"
      ]
    },
    {
      "cell_type": "code",
      "execution_count": 22,
      "metadata": {
        "id": "bfdw4sGB8VkX"
      },
      "outputs": [
        {
          "data": {
            "text/plain": [
              "(array([1, 3, 5, 6], dtype=int64),)"
            ]
          },
          "execution_count": 22,
          "metadata": {},
          "output_type": "execute_result"
        }
      ],
      "source": [
        "arr = np.array([1,4,3,4,5,4,4])\n",
        "np.where(arr==4)\n",
        "\n",
        "#Второй, но надо еще одно равно добавить"
      ]
    },
    {
      "cell_type": "markdown",
      "metadata": {
        "id": "iRD3YL7T8ua-"
      },
      "source": [
        "**Задача №7**. **Написать формулу которая создает матрицу (двумерный массив) 3x3 со значениями от 0 до 8**"
      ]
    },
    {
      "cell_type": "code",
      "execution_count": 24,
      "metadata": {
        "id": "c-OtAlC99NzU"
      },
      "outputs": [
        {
          "data": {
            "text/plain": [
              "array([[0, 1, 2],\n",
              "       [3, 4, 5],\n",
              "       [6, 7, 8]])"
            ]
          },
          "execution_count": 24,
          "metadata": {},
          "output_type": "execute_result"
        }
      ],
      "source": [
        "matrix = np.arange(9).reshape(3,3)\n",
        "matrix"
      ]
    },
    {
      "cell_type": "markdown",
      "metadata": {
        "id": "LXN5g3Rs9c5z"
      },
      "source": [
        "**Задача №8**. **Используя формулы numpy создать матрицу m с 1 внутри и 0 на границах**\n",
        "\n",
        "Подсказка 1: np.zeros\n",
        "\n",
        "Подсказка 2: матрица будет такая:\n",
        "\n",
        "array([[0., 0., 0., 0., 0.],\n",
        "       [0., 1., 1., 1., 0.],\n",
        "       [0., 1., 1., 1., 0.],\n",
        "       [0., 1., 1., 1., 0.],\n",
        "       [0., 0., 0., 0., 0.]])"
      ]
    },
    {
      "cell_type": "code",
      "execution_count": 33,
      "metadata": {
        "id": "l-ozrlsB90Cf"
      },
      "outputs": [
        {
          "data": {
            "text/plain": [
              "array([[0., 0., 0., 0., 0.],\n",
              "       [0., 1., 1., 1., 0.],\n",
              "       [0., 1., 1., 1., 0.],\n",
              "       [0., 1., 1., 1., 0.],\n",
              "       [0., 0., 0., 0., 0.]])"
            ]
          },
          "execution_count": 33,
          "metadata": {},
          "output_type": "execute_result"
        }
      ],
      "source": [
        "m=5\n",
        "matrix_1 = np.zeros((m,m))\n",
        "matrix_1[1:-1, 1:-1]=1\n",
        "matrix_1"
      ]
    },
    {
      "cell_type": "markdown",
      "metadata": {
        "id": "dTCNq8ZiCYzg"
      },
      "source": [
        "**Задача №9**. **Создайте вектор размером 10 со значениями в диапазоне от 0 до 1, 0 и 1 не должны быт в этом векторе.**\n",
        "\n",
        "Подсказка: np.linspace"
      ]
    },
    {
      "cell_type": "code",
      "execution_count": 36,
      "metadata": {
        "id": "g04nb6jaCYzh"
      },
      "outputs": [
        {
          "data": {
            "text/plain": [
              "array([0.09090909, 0.18181818, 0.27272727, 0.36363636, 0.45454545,\n",
              "       0.54545455, 0.63636364, 0.72727273, 0.81818182, 0.90909091])"
            ]
          },
          "execution_count": 36,
          "metadata": {},
          "output_type": "execute_result"
        }
      ],
      "source": [
        "a = np.linspace(0, 1, 12)[1:-1]\n",
        "a"
      ]
    },
    {
      "cell_type": "markdown",
      "metadata": {
        "id": "NNsdjzHjChcN"
      },
      "source": [
        "**Задача №10**. **Что выведет код:**\n",
        "\n",
        "a = np.array([[[1,2,3],[4,5,6]]])\n",
        "\n",
        "print(a.ndim)\n",
        "\n",
        "1. 1\n",
        "2. (1,3)\n",
        "3. 3\n",
        "4. (3,1)"
      ]
    },
    {
      "cell_type": "code",
      "execution_count": 37,
      "metadata": {
        "id": "ANo5Nip5ChcO"
      },
      "outputs": [
        {
          "name": "stdout",
          "output_type": "stream",
          "text": [
            "3\n"
          ]
        }
      ],
      "source": [
        "#Третий вариант, выводит кол-во измерений массива\n",
        "a = np.array([[[1,2,3],[4,5,6]]])\n",
        "\n",
        "print(a.ndim)"
      ]
    },
    {
      "cell_type": "markdown",
      "metadata": {
        "id": "9qo6Vo7sChqO"
      },
      "source": [
        "**Задача №11**. **Что из перечисленного является правильным способом транспонирования матрицы A?**\n",
        "\n",
        "    1. Trans(A)\n",
        "    2. Transpose(A)\n",
        "    3. A.T\n",
        "    4. A.Transpose\n"
      ]
    },
    {
      "cell_type": "code",
      "execution_count": 40,
      "metadata": {
        "id": "2WoP2DziChqP"
      },
      "outputs": [
        {
          "name": "stdout",
          "output_type": "stream",
          "text": [
            "(2, 3)\n",
            "(3, 2)\n"
          ]
        }
      ],
      "source": [
        "#Третий\n",
        "\n",
        "A=np.arange(6).reshape(2, -1)\n",
        "print(A.shape)\n",
        "A_transpose = A.T\n",
        "print(A_transpose.shape)"
      ]
    },
    {
      "cell_type": "markdown",
      "metadata": {
        "id": "OX1Xr0cdCiXv"
      },
      "source": [
        "**Задача №12**. **Что выведет print в коде:**\n",
        "\n",
        "a = np.array([1,2,3,4,5])\n",
        "\n",
        "b = np.arange(0,10,2)\n",
        "\n",
        "c = a + b\n",
        "\n",
        "print (c[4])\n"
      ]
    },
    {
      "cell_type": "code",
      "execution_count": 41,
      "metadata": {
        "id": "kPwlx-sxCiXw"
      },
      "outputs": [
        {
          "name": "stdout",
          "output_type": "stream",
          "text": [
            "13\n"
          ]
        },
        {
          "ename": "",
          "evalue": "",
          "output_type": "error",
          "traceback": [
            "\u001b[1;31mThe Kernel crashed while executing code in the current cell or a previous cell. \n",
            "\u001b[1;31mPlease review the code in the cell(s) to identify a possible cause of the failure. \n",
            "\u001b[1;31mClick <a href='https://aka.ms/vscodeJupyterKernelCrash'>here</a> for more info. \n",
            "\u001b[1;31mView Jupyter <a href='command:jupyter.viewOutput'>log</a> for further details."
          ]
        }
      ],
      "source": [
        "# Выведет 13, так как массив b = [0, 2, 4, 6, 8]. \n",
        "# И при сложении с массивом а получаем с=[1, 4, 7, 10, 13]. \n",
        "# с[4] это последний элемент массива с.\n",
        "\n",
        "\n",
        "a = np.array([1,2,3,4,5])\n",
        "\n",
        "b = np.arange(0,10,2)\n",
        "\n",
        "c = a + b\n",
        "\n",
        "print (c[4])"
      ]
    }
  ],
  "metadata": {
    "colab": {
      "provenance": []
    },
    "kernelspec": {
      "display_name": "mltest",
      "language": "python",
      "name": "python3"
    },
    "language_info": {
      "codemirror_mode": {
        "name": "ipython",
        "version": 3
      },
      "file_extension": ".py",
      "mimetype": "text/x-python",
      "name": "python",
      "nbconvert_exporter": "python",
      "pygments_lexer": "ipython3",
      "version": "3.12.5"
    }
  },
  "nbformat": 4,
  "nbformat_minor": 0
}
