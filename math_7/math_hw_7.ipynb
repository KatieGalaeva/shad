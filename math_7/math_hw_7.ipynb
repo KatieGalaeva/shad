{
 "cells": [
  {
   "cell_type": "code",
   "execution_count": 1,
   "metadata": {},
   "outputs": [
    {
     "data": {
      "text/plain": [
       "<bound method DataFrame.info of       age_category  session_duration  tracks_listened  unique_artists\n",
       "0            18-25         19.866556                4               1\n",
       "1              50+         24.036442                6               3\n",
       "2            26-35         30.002340                7               2\n",
       "3            26-35         18.562488                5               2\n",
       "4            18-25         32.509794                6               2\n",
       "...            ...               ...              ...             ...\n",
       "49995        26-35         17.733346                5               1\n",
       "49996        18-25         30.494072                8               3\n",
       "49997        26-35         34.111409                9               3\n",
       "49998        26-35         23.129974                6               2\n",
       "49999        36-50         24.741292                6               2\n",
       "\n",
       "[50000 rows x 4 columns]>"
      ]
     },
     "execution_count": 1,
     "metadata": {},
     "output_type": "execute_result"
    }
   ],
   "source": [
    "import pandas as pd\n",
    "import numpy as np\n",
    "from scipy import stats\n",
    "import statsmodels.api as sm\n",
    "import itertools\n",
    "import pandas as pd\n",
    "import numpy as np\n",
    "n_rows = 50000\n",
    "np.random.seed(42)\n",
    "ages = np.random.choice(\n",
    "    ['Under 18', '18-25', '26-35', '36-50', '50+'], \n",
    "    size=n_rows, \n",
    "    p=[0.15, 0.35, 0.25, 0.15, 0.1]\n",
    ")\n",
    "#Длительность сессии\n",
    "duration_means = {'Under 18': 20, '18-25': 20, '26-35': 25, '36-50': 22, '50+': 18}\n",
    "duration_stds = {'Under 18': 7, '18-25': 7, '26-35': 8, '36-50': 6, '50+': 5}\n",
    "session_durations = [\n",
    "    max(0, np.random.normal(duration_means[age], duration_stds[age])) \n",
    "    for age in ages\n",
    "]\n",
    "#Количество прослушанных треков за сессию \n",
    "tracks_listened = [\n",
    "    max(1, int(duration / np.random.uniform(3, 5))) \n",
    "    for duration in session_durations\n",
    "]\n",
    "#Количество уникальных исполнителей\n",
    "unique_artists = [\n",
    "    max(1, int(tracks / np.random.uniform(1.5, 3))) \n",
    "    for tracks in tracks_listened\n",
    "]\n",
    "\n",
    "dataset = pd.DataFrame({\n",
    "    'age_category': ages,\n",
    "    'session_duration': session_durations,\n",
    "    'tracks_listened': tracks_listened,\n",
    "    'unique_artists': unique_artists\n",
    "})\n",
    "file_path = 'synthetic_music_sessions.csv'\n",
    "dataset.to_csv(file_path, index=False)\n",
    "dataset.info"
   ]
  },
  {
   "cell_type": "markdown",
   "metadata": {},
   "source": [
    "1. Гипотеза о медиане (дискретный случай)\n",
    "\n",
    "Н0 - медиана уникальных исполнителей одинаково для возврастных групп 18-25 и 26-35\n",
    "Н1 - медиана уникальных исполнителей отличается для возврастных групп 18-25 и 26-35\n",
    "\n",
    "Проверим критерием Манна-Уитни. Используем тест Манна-Уитни для проверки различий между медианами, так как распределение данных не обязательно нормальное, а тест Манна-Уитни работает для независимых выборок и не требует нормальности. Или можно использовать t - test если данные нормальны. "
   ]
  },
  {
   "cell_type": "code",
   "execution_count": 4,
   "metadata": {},
   "outputs": [],
   "source": [
    "from scipy.stats import mannwhitneyu, ks_2samp, chi2_contingency\n",
    "group_18_25 = dataset[dataset['age_category'] == '18-25']['unique_artists']\n",
    "group_26_35 = dataset[dataset['age_category'] == '26-35']['unique_artists']\n"
   ]
  },
  {
   "cell_type": "code",
   "execution_count": 5,
   "metadata": {},
   "outputs": [
    {
     "name": "stdout",
     "output_type": "stream",
     "text": [
      "1. Гипотеза о медиане (дискретный случай): p-value = 0.0000\n"
     ]
    }
   ],
   "source": [
    "stat1, pval1 = mannwhitneyu(group_18_25, group_26_35, alternative='two-sided')\n",
    "print(f\"1. Гипотеза о медиане (дискретный случай): p-value = {pval1:.4f}\")"
   ]
  },
  {
   "cell_type": "markdown",
   "metadata": {},
   "source": [
    "Н0 отвергается"
   ]
  },
  {
   "cell_type": "markdown",
   "metadata": {},
   "source": [
    "2. Гипотеза о медиане (непрерывный случай)\n",
    "\n",
    "Н0 - медиана длительности сессии для возрастной группы \"36-50\" равна медианной длительности сессии для группы \"50+\".\n",
    "Н1 - медиана длительности сессии для возрастной группы \"36-50\" отличается от медианной длительности сессии для группы \"50+\".\n",
    "\n",
    "Проверим критерием Манна-Уитни. Используем тест Манна-Уитни для проверки различий между медианами, так как распределение данных не обязательно нормальное, а тест Манна-Уитни работает для независимых выборок и не требует нормальности. Или можно использовать t - test если данные нормальны. "
   ]
  },
  {
   "cell_type": "code",
   "execution_count": 7,
   "metadata": {},
   "outputs": [
    {
     "name": "stdout",
     "output_type": "stream",
     "text": [
      "2. Гипотеза о медиане (непрерывный случай): p-value = 0.0000\n"
     ]
    }
   ],
   "source": [
    "group_36_50 = dataset[dataset['age_category'] == '36-50']['session_duration']\n",
    "group_50_plus = dataset[dataset['age_category'] == '50+']['session_duration']\n",
    "stat2, pval2 = mannwhitneyu(group_36_50, group_50_plus, alternative='two-sided')\n",
    "print(f\"2. Гипотеза о медиане (непрерывный случай): p-value = {pval2:.4f}\")"
   ]
  },
  {
   "cell_type": "markdown",
   "metadata": {},
   "source": [
    "Н0 отвергается"
   ]
  },
  {
   "cell_type": "markdown",
   "metadata": {},
   "source": [
    "3. Гипотеза о распределении (дискретный случай)\n",
    "\n",
    "H₀: Распределение количества уникальных исполнителей одинаково для возрастных групп Under 18 и 18-25.\n",
    "H₁: Распределение количества уникальных исполнителей различается для возрастных групп Under 18 и 18-25.\n",
    "\n",
    "Проверка: Критерий хи-квадрат. Применяется для дискретных данных или категориальных распределений. "
   ]
  },
  {
   "cell_type": "code",
   "execution_count": 27,
   "metadata": {},
   "outputs": [
    {
     "name": "stdout",
     "output_type": "stream",
     "text": [
      "3. Гипотеза о распределении (дискретный случай): p-value = 1.0000\n"
     ]
    }
   ],
   "source": [
    "\n",
    "group_under_18 = dataset[dataset['age_category'] == 'Under 18']['unique_artists']\n",
    "group_18_25 = dataset[dataset['age_category'] == '18-25']['unique_artists']\n",
    "\n",
    "chi2_stat, pval3, dof, expected  = chi2_contingency(group_under_18, group_18_25)\n",
    "print(f\"3. Гипотеза о распределении (дискретный случай): p-value = {pval3:.4f}\")"
   ]
  },
  {
   "cell_type": "markdown",
   "metadata": {},
   "source": [
    "Н0 принимается, т.к. р-value > 0.05"
   ]
  },
  {
   "cell_type": "markdown",
   "metadata": {},
   "source": [
    "4. Гипотеза о распределении (непрерывный случай):\n",
    "\n",
    "H₀: Распределение длительности сессий одинаково для возрастных групп 26-35 и 36-50.\n",
    "H₁: Распределение длительности сессий различается для возрастных групп 26-35 и 36-50.\n",
    "\n",
    "Проверка: Тест Колмогорова-Смирнова. Применяется для непрерывнх распределений. В случае непрерывных данных этот тест чувствителен к различиям в форме распределений."
   ]
  },
  {
   "cell_type": "code",
   "execution_count": 9,
   "metadata": {},
   "outputs": [
    {
     "name": "stdout",
     "output_type": "stream",
     "text": [
      "4. Гипотеза о распределении (непрерывный случай): p-value = 0.0000\n"
     ]
    }
   ],
   "source": [
    "group_26_35 = dataset[dataset['age_category'] == '26-35']['session_duration']\n",
    "group_36_50 = dataset[dataset['age_category'] == '36-50']['session_duration']\n",
    "\n",
    "stat4, pval4 = ks_2samp(group_26_35, group_36_50)\n",
    "print(f\"4. Гипотеза о распределении (непрерывный случай): p-value = {pval4:.4f}\")"
   ]
  },
  {
   "cell_type": "markdown",
   "metadata": {},
   "source": [
    "H0 отвергается"
   ]
  },
  {
   "cell_type": "markdown",
   "metadata": {},
   "source": [
    "5. Бустрап\n",
    "\n"
   ]
  },
  {
   "cell_type": "code",
   "execution_count": 17,
   "metadata": {},
   "outputs": [],
   "source": [
    "def bootstrap_p_value(data1, data2, n_iterations=1000):\n",
    "    observed_diff = np.mean(data1) - np.mean(data2)\n",
    "    bootstrapped_diffs = []\n",
    "    for _ in range(n_iterations):\n",
    "        sample1 = np.random.choice(data1, size=len(data1), replace=True)\n",
    "        sample2 = np.random.choice(data2, size=len(data2), replace=True)\n",
    "        bootstrapped_diffs.append(np.mean(sample1) - np.mean(sample2))\n",
    "    bootstrapped_diffs = np.array(bootstrapped_diffs)\n",
    "    p_value = np.mean(np.abs(bootstrapped_diffs) >= np.abs(observed_diff))\n",
    "    return p_value"
   ]
  },
  {
   "cell_type": "code",
   "execution_count": 32,
   "metadata": {},
   "outputs": [
    {
     "name": "stdout",
     "output_type": "stream",
     "text": [
      "Бутстрап для гипотезы 1 и 2: 0.463\n"
     ]
    }
   ],
   "source": [
    "group1 = dataset[dataset['age_category'] == '18-25']['unique_artists']\n",
    "group2 = dataset[dataset['age_category'] == '26-35']['unique_artists']\n",
    "\n",
    "bootstrap_conf_interval = bootstrap_p_value(group1, group2)\n",
    "print(f'Бутстрап для гипотезы 1 и 2: {bootstrap_conf_interval}')"
   ]
  },
  {
   "cell_type": "code",
   "execution_count": null,
   "metadata": {},
   "outputs": [
    {
     "name": "stdout",
     "output_type": "stream",
     "text": [
      "Бутстрап p-value для гипотезы 3: 0.5815\n"
     ]
    },
    {
     "ename": "",
     "evalue": "",
     "output_type": "error",
     "traceback": [
      "\u001b[1;31mThe Kernel crashed while executing code in the current cell or a previous cell. \n",
      "\u001b[1;31mPlease review the code in the cell(s) to identify a possible cause of the failure. \n",
      "\u001b[1;31mClick <a href='https://aka.ms/vscodeJupyterKernelCrash'>here</a> for more info. \n",
      "\u001b[1;31mView Jupyter <a href='command:jupyter.viewOutput'>log</a> for further details."
     ]
    }
   ],
   "source": [
    "def bootstrap_ks_p_value(data1, data2, n_iterations=10000):\n",
    "    observed_stat, _ = stats.ks_2samp(data1, data2)\n",
    "    bootstrapped_stats = []\n",
    "    for _ in range(n_iterations):\n",
    "        sample1 = np.random.choice(data1, size=len(data1), replace=True)\n",
    "        sample2 = np.random.choice(data2, size=len(data2), replace=True)\n",
    "        stat, _ = stats.ks_2samp(sample1, sample2)\n",
    "        bootstrapped_stats.append(stat)\n",
    "    bootstrapped_stats = np.array(bootstrapped_stats)\n",
    "    p_value = np.mean(bootstrapped_stats >= observed_stat)\n",
    "    return p_value\n",
    "\n",
    "\n",
    "group3 = dataset[dataset['age_category'] == '26-35']['session_duration']\n",
    "group4 = dataset[dataset['age_category'] == '36-50']['session_duration']\n",
    "\n",
    "bootstrap_p_value_3 = bootstrap_ks_p_value(group3, group4)\n",
    "print(f'Бутстрап p-value для гипотезы 3: {bootstrap_p_value_3}')"
   ]
  },
  {
   "cell_type": "code",
   "execution_count": 28,
   "metadata": {},
   "outputs": [
    {
     "name": "stdout",
     "output_type": "stream",
     "text": [
      "Бутстрап p-value для гипотезы 4: 1.0\n"
     ]
    }
   ],
   "source": [
    "\n",
    "def bootstrap_chi2_p_value(data1, data2, n_iterations=1000):\n",
    "    observed_stat, p_value, dof, expected = chi2_contingency(data1, data2)\n",
    "    bootstrapped_stats = []\n",
    "    for _ in range(n_iterations):\n",
    "        sample1 = np.random.choice(data1, size=len(data1), replace=True)\n",
    "        sample2 = np.random.choice(data2, size=len(data2), replace=True)\n",
    "        stat, p_value, dof, expected = chi2_contingency(sample1, sample2)\n",
    "        bootstrapped_stats.append(stat)\n",
    "    bootstrapped_stats = np.array(bootstrapped_stats)\n",
    "    p_value = np.mean(bootstrapped_stats >= observed_stat)\n",
    "    return p_value\n",
    "\n",
    "group5 = dataset[dataset['age_category'] == 'Under 18']['unique_artists']\n",
    "group6 = dataset[dataset['age_category'] == '18-25']['unique_artists']\n",
    "bootstrap_p_value_4 = bootstrap_chi2_p_value(group5, group6)\n",
    "print(f'Бутстрап p-value для гипотезы 4: {bootstrap_p_value_4}')"
   ]
  },
  {
   "cell_type": "markdown",
   "metadata": {},
   "source": [
    "В 1,2 и 4 случае бустрап дал результат выше, чем первый способ. Вероятно, мои данные плохо сгенерированы и бустрап лучше решает эту проблему, и следовательно лучше находит какие-то паттерны в них. \n",
    "В 3 случае бустрап дал результат ниже, чем первый способ. Вероятно, есть какие-то отклонения от предполагаемого распределения, которые бустрап фиксирует лучше. \n",
    "Проблемы могут возникнуть из-за того, что например предположения не выполняются (например, если данные не нормально распределены), то стандартные тесты могут давать ошибочные или менее точные результаты. Также в данных могут быть выбросы, которые классические тесты могут игнорировать, однако бустрап может учитывать эту проблему. \n",
    "На мой взгляд данные малы и имеют довольно сложную структуру и традиционные стат тесты могут быть менее мощными. \n",
    "\n",
    "\n",
    "Я считаю, что для сгенерированных данных мощнее является бустрап, потому что он создает более стабильные данные. Потому что при увеличении итераций в бустрапе, p-value увеличивается. "
   ]
  }
 ],
 "metadata": {
  "kernelspec": {
   "display_name": "mltest",
   "language": "python",
   "name": "python3"
  },
  "language_info": {
   "codemirror_mode": {
    "name": "ipython",
    "version": 3
   },
   "file_extension": ".py",
   "mimetype": "text/x-python",
   "name": "python",
   "nbconvert_exporter": "python",
   "pygments_lexer": "ipython3",
   "version": "3.12.5"
  }
 },
 "nbformat": 4,
 "nbformat_minor": 2
}
